{
 "cells": [
  {
   "cell_type": "code",
   "id": "initial_id",
   "metadata": {
    "collapsed": true,
    "ExecuteTime": {
     "end_time": "2025-05-29T02:38:32.358915Z",
     "start_time": "2025-05-29T02:38:31.227201Z"
    }
   },
   "source": [
    "from tqdm import tqdm\n",
    "import os\n",
    "import pandas as pd\n",
    "import numpy as np\n",
    "import talib as ta\n",
    "import matplotlib.pyplot as plt"
   ],
   "outputs": [],
   "execution_count": 1
  },
  {
   "metadata": {
    "ExecuteTime": {
     "end_time": "2025-05-29T02:40:30.778182Z",
     "start_time": "2025-05-29T02:40:28.238076Z"
    }
   },
   "cell_type": "code",
   "source": [
    "path = \"Z:\\data\\BTCUSDT\\BTCUSDT-1h\"\n",
    "filelist = os.listdir(path)\n",
    "filelist.sort()\n",
    "df = pd.DataFrame()\n",
    "for i in tqdm(filelist[-400:]):\n",
    "    df0 = pd.read_csv(os.path.join(path, i))\n",
    "    df = pd.concat([df, df0])"
   ],
   "id": "5b4b25b8373debf3",
   "outputs": [
    {
     "name": "stderr",
     "output_type": "stream",
     "text": [
      "100%|██████████| 400/400 [00:02<00:00, 162.00it/s]\n"
     ]
    }
   ],
   "execution_count": 17
  },
  {
   "metadata": {
    "ExecuteTime": {
     "end_time": "2025-05-29T02:40:31.323976Z",
     "start_time": "2025-05-29T02:40:31.310044Z"
    }
   },
   "cell_type": "code",
   "source": [
    "df1 = df[['open_time', 'open', 'high', 'low', 'close', 'volume']]\n",
    "df1.columns = ['t', 'o', 'h', 'l', 'c', 'v']\n",
    "df1 = df1.dropna()"
   ],
   "id": "aadd1c191fe5a4a",
   "outputs": [],
   "execution_count": 18
  },
  {
   "metadata": {
    "ExecuteTime": {
     "end_time": "2025-05-29T02:40:31.900014Z",
     "start_time": "2025-05-29T02:40:31.874085Z"
    }
   },
   "cell_type": "code",
   "source": [
    "def caculate_adx(df, length=14):\n",
    "    \"\"\"\n",
    "\n",
    "    :param df:传入的参数\n",
    "    :param length: 时间周期长度\n",
    "    :return: df['g1.ADX']\n",
    "    \"\"\"\n",
    "    df = df.copy()\n",
    "    # 计算真实波幅(TR)\n",
    "    df['H-L'] = df['h'] - df['l']\n",
    "    df['H-PreClose'] = np.abs(df['h'] - df['c'].shift(1))\n",
    "    df['L-PreClose'] = np.abs(df['l'] - df['c'].shift(1))\n",
    "    df['TR'] = df[['H-L', 'H-PreClose', 'L-PreClose']].max(axis=1)\n",
    "\n",
    "    # 计算+DM和-DM\n",
    "    df['H-PreH'] = df['h'] - df['h'].shift(1)\n",
    "    df['L-PreL'] = df['l'].shift(1) - df['l']\n",
    "    df['+DM'] = np.where((df['H-PreH'] > df['L-PreL']) & (df['H-PreH'] > 0), df['H-PreH'], 0)\n",
    "    df['-DM'] = np.where((df['L-PreL'] > df['H-PreH']) & (df['L-PreL'] > 0), df['L-PreL'], 0)\n",
    "\n",
    "    # 计算TR、+DM、-DM的N日移动平均\n",
    "    # 使用Wilder的平滑方法\n",
    "    df['TR_SMA'] = df['TR'].rolling(window=length).mean()\n",
    "    df['+DM_SMA'] = df['+DM'].rolling(window=length).mean()\n",
    "    df['-DM_SMA'] = df['-DM'].rolling(window=length).mean()\n",
    "\n",
    "    # for i in range(length, len(df)):\n",
    "    #     df.loc[df.index[i], 'TR_SMA'] = (df.loc[df.index[i - 1], 'TR_SMA'] * (length - 1) + df.loc[\n",
    "    #         df.index[i], 'TR']) / length\n",
    "    #     df.loc[df.index[i], '+DM_SMA'] = (df.loc[df.index[i - 1], '+DM_SMA'] * (length - 1) + df.loc[\n",
    "    #         df.index[i], '+DM']) / length\n",
    "    #     df.loc[df.index[i], '-DM_SMA'] = (df.loc[df.index[i - 1], '-DM_SMA'] * (length - 1) + df.loc[\n",
    "    #         df.index[i], '-DM']) / length\n",
    "    # 计算+DI和-DI\n",
    "    df['+DI'] = (df['+DM_SMA'] / df['TR_SMA']) * 100\n",
    "    df['-DI'] = (df['-DM_SMA'] / df['TR_SMA']) * 100\n",
    "\n",
    "    # 计算DX\n",
    "    df['DX'] = (np.abs(df['+DI'] - df['-DI']) / (df['+DI'] + df['-DI'])) * 100\n",
    "\n",
    "    # 计算ADX (DX的N日移动平均)\n",
    "    # df['ADX'] = df['DX'].rolling(window=length).mean()\n",
    "    df['ADX'] = 0\n",
    "\n",
    "    df = df.reset_index(drop=True)  # 在关键步骤重置索引\n",
    "    for i in range(length - 1, len(df)):\n",
    "        df.loc[df.index[i], 'ADX'] = (df.loc[df.index[i - 1], 'ADX'] * (length - 1) + df.loc[\n",
    "            df.index[i], 'DX']) / length\n",
    "\n",
    "    return df['ADX']"
   ],
   "id": "f1e8092eb6809f7c",
   "outputs": [],
   "execution_count": 19
  },
  {
   "metadata": {
    "ExecuteTime": {
     "end_time": "2025-05-29T02:40:35.480337Z",
     "start_time": "2025-05-29T02:40:33.537426Z"
    }
   },
   "cell_type": "code",
   "source": [
    "df1 = pd.read_csv('./ADXH.csv')\n",
    "length = 14  # 默认交易周期为14\n",
    "df1['g1.ADX'] = 0\n",
    "df1['g1.ADX'] = df1['g1.ADX'].astype(np.float64)\n",
    "df1['g1.ADX'] = caculate_adx(df=df1, length=length)"
   ],
   "id": "8761bc3d74153248",
   "outputs": [
    {
     "name": "stderr",
     "output_type": "stream",
     "text": [
      "C:\\Users\\yyx\\AppData\\Local\\Temp\\ipykernel_12284\\433047880.py:47: FutureWarning: Setting an item of incompatible dtype is deprecated and will raise an error in a future version of pandas. Value '1.8415633863009258' has dtype incompatible with int64, please explicitly cast to a compatible dtype first.\n",
      "  df.loc[df.index[i], 'ADX'] = (df.loc[df.index[i - 1], 'ADX'] * (length - 1) + df.loc[\n"
     ]
    }
   ],
   "execution_count": 20
  },
  {
   "metadata": {
    "ExecuteTime": {
     "end_time": "2025-05-29T02:41:52.179638Z",
     "start_time": "2025-05-29T02:41:52.159692Z"
    }
   },
   "cell_type": "code",
   "source": [
    "df1 = df1[length-1:]  # 去除空置\n",
    "df1"
   ],
   "id": "34e033d6f93d2bee",
   "outputs": [
    {
     "data": {
      "text/plain": [
       "                  t        o        h        l        c          v     g1.ADX\n",
       "13    1662433200000  19806.0  19815.9  19694.2  19780.2  16485.985   1.841563\n",
       "14    1662436800000  19780.3  19839.9  19744.0  19754.1  17001.593   3.719128\n",
       "15    1662440400000  19754.1  19829.3  19724.0  19772.2  16109.126   4.820922\n",
       "16    1662444000000  19772.3  19880.1  19755.0  19848.2  18069.820   6.368098\n",
       "17    1662447600000  19848.3  19940.0  19836.0  19900.7  28810.795   8.596788\n",
       "...             ...      ...      ...      ...      ...        ...        ...\n",
       "9581  1696878000000  27555.0  27632.4  27526.3  27607.6   8683.886  48.780720\n",
       "9582  1696881600000  27607.7  27644.0  27542.9  27556.2   4995.344  48.772804\n",
       "9583  1696885200000  27556.1  27627.2  27542.3  27607.4   3540.588  48.603426\n",
       "9584  1696888800000  27607.4  27627.0  27562.0  27575.9   3771.446  47.934711\n",
       "9585  1696892400000  27575.9  27605.0  27558.1  27578.3   2906.802  45.426429\n",
       "\n",
       "[9573 rows x 7 columns]"
      ],
      "text/html": [
       "<div>\n",
       "<style scoped>\n",
       "    .dataframe tbody tr th:only-of-type {\n",
       "        vertical-align: middle;\n",
       "    }\n",
       "\n",
       "    .dataframe tbody tr th {\n",
       "        vertical-align: top;\n",
       "    }\n",
       "\n",
       "    .dataframe thead th {\n",
       "        text-align: right;\n",
       "    }\n",
       "</style>\n",
       "<table border=\"1\" class=\"dataframe\">\n",
       "  <thead>\n",
       "    <tr style=\"text-align: right;\">\n",
       "      <th></th>\n",
       "      <th>t</th>\n",
       "      <th>o</th>\n",
       "      <th>h</th>\n",
       "      <th>l</th>\n",
       "      <th>c</th>\n",
       "      <th>v</th>\n",
       "      <th>g1.ADX</th>\n",
       "    </tr>\n",
       "  </thead>\n",
       "  <tbody>\n",
       "    <tr>\n",
       "      <th>13</th>\n",
       "      <td>1662433200000</td>\n",
       "      <td>19806.0</td>\n",
       "      <td>19815.9</td>\n",
       "      <td>19694.2</td>\n",
       "      <td>19780.2</td>\n",
       "      <td>16485.985</td>\n",
       "      <td>1.841563</td>\n",
       "    </tr>\n",
       "    <tr>\n",
       "      <th>14</th>\n",
       "      <td>1662436800000</td>\n",
       "      <td>19780.3</td>\n",
       "      <td>19839.9</td>\n",
       "      <td>19744.0</td>\n",
       "      <td>19754.1</td>\n",
       "      <td>17001.593</td>\n",
       "      <td>3.719128</td>\n",
       "    </tr>\n",
       "    <tr>\n",
       "      <th>15</th>\n",
       "      <td>1662440400000</td>\n",
       "      <td>19754.1</td>\n",
       "      <td>19829.3</td>\n",
       "      <td>19724.0</td>\n",
       "      <td>19772.2</td>\n",
       "      <td>16109.126</td>\n",
       "      <td>4.820922</td>\n",
       "    </tr>\n",
       "    <tr>\n",
       "      <th>16</th>\n",
       "      <td>1662444000000</td>\n",
       "      <td>19772.3</td>\n",
       "      <td>19880.1</td>\n",
       "      <td>19755.0</td>\n",
       "      <td>19848.2</td>\n",
       "      <td>18069.820</td>\n",
       "      <td>6.368098</td>\n",
       "    </tr>\n",
       "    <tr>\n",
       "      <th>17</th>\n",
       "      <td>1662447600000</td>\n",
       "      <td>19848.3</td>\n",
       "      <td>19940.0</td>\n",
       "      <td>19836.0</td>\n",
       "      <td>19900.7</td>\n",
       "      <td>28810.795</td>\n",
       "      <td>8.596788</td>\n",
       "    </tr>\n",
       "    <tr>\n",
       "      <th>...</th>\n",
       "      <td>...</td>\n",
       "      <td>...</td>\n",
       "      <td>...</td>\n",
       "      <td>...</td>\n",
       "      <td>...</td>\n",
       "      <td>...</td>\n",
       "      <td>...</td>\n",
       "    </tr>\n",
       "    <tr>\n",
       "      <th>9581</th>\n",
       "      <td>1696878000000</td>\n",
       "      <td>27555.0</td>\n",
       "      <td>27632.4</td>\n",
       "      <td>27526.3</td>\n",
       "      <td>27607.6</td>\n",
       "      <td>8683.886</td>\n",
       "      <td>48.780720</td>\n",
       "    </tr>\n",
       "    <tr>\n",
       "      <th>9582</th>\n",
       "      <td>1696881600000</td>\n",
       "      <td>27607.7</td>\n",
       "      <td>27644.0</td>\n",
       "      <td>27542.9</td>\n",
       "      <td>27556.2</td>\n",
       "      <td>4995.344</td>\n",
       "      <td>48.772804</td>\n",
       "    </tr>\n",
       "    <tr>\n",
       "      <th>9583</th>\n",
       "      <td>1696885200000</td>\n",
       "      <td>27556.1</td>\n",
       "      <td>27627.2</td>\n",
       "      <td>27542.3</td>\n",
       "      <td>27607.4</td>\n",
       "      <td>3540.588</td>\n",
       "      <td>48.603426</td>\n",
       "    </tr>\n",
       "    <tr>\n",
       "      <th>9584</th>\n",
       "      <td>1696888800000</td>\n",
       "      <td>27607.4</td>\n",
       "      <td>27627.0</td>\n",
       "      <td>27562.0</td>\n",
       "      <td>27575.9</td>\n",
       "      <td>3771.446</td>\n",
       "      <td>47.934711</td>\n",
       "    </tr>\n",
       "    <tr>\n",
       "      <th>9585</th>\n",
       "      <td>1696892400000</td>\n",
       "      <td>27575.9</td>\n",
       "      <td>27605.0</td>\n",
       "      <td>27558.1</td>\n",
       "      <td>27578.3</td>\n",
       "      <td>2906.802</td>\n",
       "      <td>45.426429</td>\n",
       "    </tr>\n",
       "  </tbody>\n",
       "</table>\n",
       "<p>9573 rows × 7 columns</p>\n",
       "</div>"
      ]
     },
     "execution_count": 24,
     "metadata": {},
     "output_type": "execute_result"
    }
   ],
   "execution_count": 24
  },
  {
   "metadata": {
    "ExecuteTime": {
     "end_time": "2025-05-29T02:42:00.024244Z",
     "start_time": "2025-05-29T02:41:59.949964Z"
    }
   },
   "cell_type": "code",
   "source": "df1.to_csv('./ADXH.csv', index=False)",
   "id": "e53c5eb6165f1182",
   "outputs": [],
   "execution_count": 25
  },
  {
   "metadata": {},
   "cell_type": "code",
   "outputs": [],
   "execution_count": null,
   "source": "",
   "id": "acafb20fa4db2d9a"
  }
 ],
 "metadata": {
  "kernelspec": {
   "display_name": "Python 3",
   "language": "python",
   "name": "python3"
  },
  "language_info": {
   "codemirror_mode": {
    "name": "ipython",
    "version": 2
   },
   "file_extension": ".py",
   "mimetype": "text/x-python",
   "name": "python",
   "nbconvert_exporter": "python",
   "pygments_lexer": "ipython2",
   "version": "2.7.6"
  }
 },
 "nbformat": 4,
 "nbformat_minor": 5
}
