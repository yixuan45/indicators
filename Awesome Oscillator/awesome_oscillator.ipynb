{
 "cells": [
  {
   "cell_type": "code",
   "id": "initial_id",
   "metadata": {
    "collapsed": true,
    "ExecuteTime": {
     "end_time": "2025-06-03T01:25:32.310190Z",
     "start_time": "2025-06-03T01:25:31.502803Z"
    }
   },
   "source": [
    "import os\n",
    "import numpy as np\n",
    "import talib as ta\n",
    "import pandas as pd\n",
    "import matplotlib.pyplot as plt\n",
    "from tqdm import tqdm"
   ],
   "outputs": [],
   "execution_count": 1
  },
  {
   "metadata": {
    "ExecuteTime": {
     "end_time": "2025-06-03T01:25:32.481549Z",
     "start_time": "2025-06-03T01:25:32.466552Z"
    }
   },
   "cell_type": "code",
   "source": "path = \"Z:\\data\\BTCUSDT\\BTCUSDT-1h\"",
   "id": "62c10572972ce0fc",
   "outputs": [],
   "execution_count": 2
  },
  {
   "metadata": {
    "ExecuteTime": {
     "end_time": "2025-06-03T01:25:47.793741Z",
     "start_time": "2025-06-03T01:25:42.564440Z"
    }
   },
   "cell_type": "code",
   "source": [
    "filelist = os.listdir(path)\n",
    "filelist.sort()  # 对文件名字进行排序\n",
    "df = pd.DataFrame()\n",
    "for file in tqdm(filelist[-300:]):\n",
    "    df0 = pd.read_csv(os.path.join(path, file))\n",
    "    df = pd.concat([df, df0], ignore_index=True)"
   ],
   "id": "2b8dab3cb438b9e9",
   "outputs": [
    {
     "name": "stderr",
     "output_type": "stream",
     "text": [
      "100%|██████████| 300/300 [00:05<00:00, 58.17it/s]\n"
     ]
    }
   ],
   "execution_count": 3
  },
  {
   "metadata": {
    "ExecuteTime": {
     "end_time": "2025-06-03T01:40:38.459453Z",
     "start_time": "2025-06-03T01:40:38.445490Z"
    }
   },
   "cell_type": "code",
   "source": [
    "df1 = df[['open_time', 'open', 'high', 'low', 'close', 'volume']]\n",
    "df1.columns = ['t', 'o', 'h', 'l', 'c', 'v']\n",
    "df1 = df1.dropna()"
   ],
   "id": "2276b4cc8fd92f20",
   "outputs": [],
   "execution_count": 31
  },
  {
   "metadata": {
    "ExecuteTime": {
     "end_time": "2025-06-03T01:40:38.644795Z",
     "start_time": "2025-06-03T01:40:38.631414Z"
    }
   },
   "cell_type": "code",
   "source": [
    "def get_ao(df, short_length=5, long_length=34):\n",
    "    df = df.copy()\n",
    "    df['midprice'] = (df['h'] + df['l']) / 2\n",
    "    # 再计算AO值\n",
    "    df['g1.AO'] = df['midprice'].rolling(5).mean() - df['midprice'].rolling(34).mean()\n",
    "    return df['g1.AO']"
   ],
   "id": "dd994de5255c9816",
   "outputs": [],
   "execution_count": 32
  },
  {
   "metadata": {
    "ExecuteTime": {
     "end_time": "2025-06-03T01:40:39.050593Z",
     "start_time": "2025-06-03T01:40:39.028102Z"
    }
   },
   "cell_type": "code",
   "source": [
    "df1['gi.AO'] = get_ao(df1)\n",
    "df1=df1[33:]\n",
    "df1"
   ],
   "id": "fed3c6635762783c",
   "outputs": [
    {
     "data": {
      "text/plain": [
       "                  t        o        h        l        c          v       gi.AO\n",
       "33    1671094800000  17621.4  17693.0  17608.0  17691.9  12368.671 -135.430588\n",
       "34    1671098400000  17691.9  17692.5  17641.0  17658.5   9488.489 -141.275588\n",
       "35    1671102000000  17658.6  17716.6  17643.2  17712.1  13749.781 -146.560294\n",
       "36    1671105600000  17712.1  17714.6  17652.3  17674.7  12819.927 -148.127059\n",
       "37    1671109200000  17674.7  17681.7  17446.0  17497.8  69117.552 -160.337941\n",
       "...             ...      ...      ...      ...      ...        ...         ...\n",
       "7195  1696878000000  27555.0  27632.4  27526.3  27607.6   8683.886 -244.025588\n",
       "7196  1696881600000  27607.7  27644.0  27542.9  27556.2   4995.344 -212.653529\n",
       "7197  1696885200000  27556.1  27627.2  27542.3  27607.4   3540.588 -167.952353\n",
       "7198  1696888800000  27607.4  27627.0  27562.0  27575.9   3771.446 -133.679412\n",
       "7199  1696892400000  27575.9  27605.0  27558.1  27578.3   2906.802 -139.090294\n",
       "\n",
       "[7167 rows x 7 columns]"
      ],
      "text/html": [
       "<div>\n",
       "<style scoped>\n",
       "    .dataframe tbody tr th:only-of-type {\n",
       "        vertical-align: middle;\n",
       "    }\n",
       "\n",
       "    .dataframe tbody tr th {\n",
       "        vertical-align: top;\n",
       "    }\n",
       "\n",
       "    .dataframe thead th {\n",
       "        text-align: right;\n",
       "    }\n",
       "</style>\n",
       "<table border=\"1\" class=\"dataframe\">\n",
       "  <thead>\n",
       "    <tr style=\"text-align: right;\">\n",
       "      <th></th>\n",
       "      <th>t</th>\n",
       "      <th>o</th>\n",
       "      <th>h</th>\n",
       "      <th>l</th>\n",
       "      <th>c</th>\n",
       "      <th>v</th>\n",
       "      <th>gi.AO</th>\n",
       "    </tr>\n",
       "  </thead>\n",
       "  <tbody>\n",
       "    <tr>\n",
       "      <th>33</th>\n",
       "      <td>1671094800000</td>\n",
       "      <td>17621.4</td>\n",
       "      <td>17693.0</td>\n",
       "      <td>17608.0</td>\n",
       "      <td>17691.9</td>\n",
       "      <td>12368.671</td>\n",
       "      <td>-135.430588</td>\n",
       "    </tr>\n",
       "    <tr>\n",
       "      <th>34</th>\n",
       "      <td>1671098400000</td>\n",
       "      <td>17691.9</td>\n",
       "      <td>17692.5</td>\n",
       "      <td>17641.0</td>\n",
       "      <td>17658.5</td>\n",
       "      <td>9488.489</td>\n",
       "      <td>-141.275588</td>\n",
       "    </tr>\n",
       "    <tr>\n",
       "      <th>35</th>\n",
       "      <td>1671102000000</td>\n",
       "      <td>17658.6</td>\n",
       "      <td>17716.6</td>\n",
       "      <td>17643.2</td>\n",
       "      <td>17712.1</td>\n",
       "      <td>13749.781</td>\n",
       "      <td>-146.560294</td>\n",
       "    </tr>\n",
       "    <tr>\n",
       "      <th>36</th>\n",
       "      <td>1671105600000</td>\n",
       "      <td>17712.1</td>\n",
       "      <td>17714.6</td>\n",
       "      <td>17652.3</td>\n",
       "      <td>17674.7</td>\n",
       "      <td>12819.927</td>\n",
       "      <td>-148.127059</td>\n",
       "    </tr>\n",
       "    <tr>\n",
       "      <th>37</th>\n",
       "      <td>1671109200000</td>\n",
       "      <td>17674.7</td>\n",
       "      <td>17681.7</td>\n",
       "      <td>17446.0</td>\n",
       "      <td>17497.8</td>\n",
       "      <td>69117.552</td>\n",
       "      <td>-160.337941</td>\n",
       "    </tr>\n",
       "    <tr>\n",
       "      <th>...</th>\n",
       "      <td>...</td>\n",
       "      <td>...</td>\n",
       "      <td>...</td>\n",
       "      <td>...</td>\n",
       "      <td>...</td>\n",
       "      <td>...</td>\n",
       "      <td>...</td>\n",
       "    </tr>\n",
       "    <tr>\n",
       "      <th>7195</th>\n",
       "      <td>1696878000000</td>\n",
       "      <td>27555.0</td>\n",
       "      <td>27632.4</td>\n",
       "      <td>27526.3</td>\n",
       "      <td>27607.6</td>\n",
       "      <td>8683.886</td>\n",
       "      <td>-244.025588</td>\n",
       "    </tr>\n",
       "    <tr>\n",
       "      <th>7196</th>\n",
       "      <td>1696881600000</td>\n",
       "      <td>27607.7</td>\n",
       "      <td>27644.0</td>\n",
       "      <td>27542.9</td>\n",
       "      <td>27556.2</td>\n",
       "      <td>4995.344</td>\n",
       "      <td>-212.653529</td>\n",
       "    </tr>\n",
       "    <tr>\n",
       "      <th>7197</th>\n",
       "      <td>1696885200000</td>\n",
       "      <td>27556.1</td>\n",
       "      <td>27627.2</td>\n",
       "      <td>27542.3</td>\n",
       "      <td>27607.4</td>\n",
       "      <td>3540.588</td>\n",
       "      <td>-167.952353</td>\n",
       "    </tr>\n",
       "    <tr>\n",
       "      <th>7198</th>\n",
       "      <td>1696888800000</td>\n",
       "      <td>27607.4</td>\n",
       "      <td>27627.0</td>\n",
       "      <td>27562.0</td>\n",
       "      <td>27575.9</td>\n",
       "      <td>3771.446</td>\n",
       "      <td>-133.679412</td>\n",
       "    </tr>\n",
       "    <tr>\n",
       "      <th>7199</th>\n",
       "      <td>1696892400000</td>\n",
       "      <td>27575.9</td>\n",
       "      <td>27605.0</td>\n",
       "      <td>27558.1</td>\n",
       "      <td>27578.3</td>\n",
       "      <td>2906.802</td>\n",
       "      <td>-139.090294</td>\n",
       "    </tr>\n",
       "  </tbody>\n",
       "</table>\n",
       "<p>7167 rows × 7 columns</p>\n",
       "</div>"
      ]
     },
     "execution_count": 33,
     "metadata": {},
     "output_type": "execute_result"
    }
   ],
   "execution_count": 33
  },
  {
   "metadata": {
    "ExecuteTime": {
     "end_time": "2025-06-03T01:40:54.096789Z",
     "start_time": "2025-06-03T01:40:54.028211Z"
    }
   },
   "cell_type": "code",
   "source": "df1.to_csv('AOH.csv', index=False)",
   "id": "931f4644c8cfa2dc",
   "outputs": [],
   "execution_count": 34
  },
  {
   "metadata": {},
   "cell_type": "code",
   "outputs": [],
   "execution_count": null,
   "source": "",
   "id": "d47278f3a67e0835"
  }
 ],
 "metadata": {
  "kernelspec": {
   "display_name": "Python 3",
   "language": "python",
   "name": "python3"
  },
  "language_info": {
   "codemirror_mode": {
    "name": "ipython",
    "version": 2
   },
   "file_extension": ".py",
   "mimetype": "text/x-python",
   "name": "python",
   "nbconvert_exporter": "python",
   "pygments_lexer": "ipython2",
   "version": "2.7.6"
  }
 },
 "nbformat": 4,
 "nbformat_minor": 5
}
