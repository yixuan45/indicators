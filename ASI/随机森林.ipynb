{
 "cells": [
  {
   "cell_type": "code",
   "id": "initial_id",
   "metadata": {
    "collapsed": true,
    "ExecuteTime": {
     "end_time": "2025-05-28T01:28:56.418553Z",
     "start_time": "2025-05-28T01:28:54.622646Z"
    }
   },
   "source": [
    "import pandas as pd\n",
    "import numpy as np\n",
    "from sklearn.ensemble import RandomForestClassifier, VotingClassifier\n",
    "from sklearn.model_selection import train_test_split, GridSearchCV, validation_curve, cross_val_score\n",
    "from sklearn.metrics import accuracy_score, classification_report, confusion_matrix\n",
    "from sklearn.preprocessing import StandardScaler\n",
    "from sklearn.linear_model import LogisticRegression\n",
    "from sklearn.svm import SVC\n",
    "from sklearn.feature_selection import SelectFromModel\n",
    "import matplotlib.pyplot as plt\n",
    "import seaborn as sns"
   ],
   "outputs": [],
   "execution_count": 1
  },
  {
   "metadata": {
    "ExecuteTime": {
     "end_time": "2025-05-28T01:28:56.591509Z",
     "start_time": "2025-05-28T01:28:56.577523Z"
    }
   },
   "cell_type": "code",
   "source": [
    "# 设置随机种子确保结果可复现\n",
    "np.random.seed(42)"
   ],
   "id": "be1db0b115d1eb5",
   "outputs": [],
   "execution_count": 2
  },
  {
   "metadata": {
    "ExecuteTime": {
     "end_time": "2025-05-28T01:28:56.622736Z",
     "start_time": "2025-05-28T01:28:56.608486Z"
    }
   },
   "cell_type": "code",
   "source": [
    "def load_data(file_path):\n",
    "    \"\"\"\n",
    "    从CSV文件加载数据\n",
    "    假设文件包含'ri.ASI指标'特征列和'target'目标变量列\n",
    "    \"\"\"\n",
    "    data = pd.read_csv(file_path)\n",
    "    print(f\"数据加载成功，共{data.shape[0]}行，{data.shape[1]}列\")\n",
    "    return data"
   ],
   "id": "7f5eeec6fbf0a563",
   "outputs": [],
   "execution_count": 3
  },
  {
   "metadata": {
    "ExecuteTime": {
     "end_time": "2025-05-28T01:29:03.213239Z",
     "start_time": "2025-05-28T01:29:03.199307Z"
    }
   },
   "cell_type": "code",
   "source": [
    "def prepare_data(data):\n",
    "    \"\"\"准备数据\"\"\"\n",
    "    X = data[['g1.ASI','h','l','o','c']].values\n",
    "    y = data['judge'].values\n",
    "\n",
    "    # 划分训练集和测试集\n",
    "    X_train, X_test, y_train, y_test = train_test_split(\n",
    "        X, y, test_size=0.2, random_state=42, stratify=y\n",
    "    )\n",
    "\n",
    "    # 数据标准化\n",
    "    scaler = StandardScaler()\n",
    "    X_train_scaled = scaler.fit_transform(X_train)\n",
    "    X_test_scaled = scaler.transform(X_test)\n",
    "\n",
    "    return X_train_scaled, X_test_scaled, y_train, y_test"
   ],
   "id": "a287292d90675e4a",
   "outputs": [],
   "execution_count": 4
  },
  {
   "metadata": {
    "ExecuteTime": {
     "end_time": "2025-05-28T01:29:07.412891Z",
     "start_time": "2025-05-28T01:29:07.398930Z"
    }
   },
   "cell_type": "code",
   "source": [
    "def find_best_params(X_train, y_train):\n",
    "    \"\"\"使用网格搜索找到最优参数，同时防止过拟合\"\"\"\n",
    "    # 优化的参数网格\n",
    "    param_grid = {\n",
    "        'n_estimators': [50, 100, 150],\n",
    "        'max_depth': [3, 5, 7],\n",
    "        'min_samples_split': [5, 10, 15],\n",
    "        'min_samples_leaf': [2, 4, 6],\n",
    "        'max_features': ['sqrt'],\n",
    "        'bootstrap': [True],\n",
    "        'ccp_alpha': [0.001, 0.01]\n",
    "    }\n",
    "\n",
    "    # 创建随机森林分类器\n",
    "    rf = RandomForestClassifier(random_state=42)\n",
    "\n",
    "    # 网格搜索\n",
    "    grid_search = GridSearchCV(\n",
    "        estimator=rf,\n",
    "        param_grid=param_grid,\n",
    "        cv=5,\n",
    "        n_jobs=-1,\n",
    "        scoring='accuracy',\n",
    "        verbose=1\n",
    "    )\n",
    "\n",
    "    print(\"开始网格搜索...\")\n",
    "    grid_search.fit(X_train, y_train)\n",
    "\n",
    "    print(f\"最佳参数: {grid_search.best_params_}\")\n",
    "    print(f\"最佳交叉验证准确率: {grid_search.best_score_:.4f}\")\n",
    "\n",
    "    # 可视化早停效果\n",
    "    param_range = [50, 100, 150, 200, 250]\n",
    "    train_scores, test_scores = validation_curve(\n",
    "        rf, X_train, y_train,\n",
    "        param_name=\"n_estimators\",\n",
    "        param_range=param_range,\n",
    "        cv=5,\n",
    "        scoring=\"accuracy\",\n",
    "        n_jobs=-1\n",
    "    )\n",
    "\n",
    "    plt.figure(figsize=(10, 6))\n",
    "    plt.plot(param_range, np.mean(train_scores, axis=1), 'o-', color=\"r\", label=\"训练集准确率\")\n",
    "    plt.plot(param_range, np.mean(test_scores, axis=1), 'o-', color=\"g\", label=\"验证集准确率\")\n",
    "    plt.title(\"不同决策树数量的验证曲线\")\n",
    "    plt.xlabel(\"决策树数量\")\n",
    "    plt.ylabel(\"准确率\")\n",
    "    plt.legend()\n",
    "    plt.tight_layout()\n",
    "    plt.savefig('early_stopping_curve.png')\n",
    "    plt.close()\n",
    "\n",
    "    return grid_search.best_estimator_"
   ],
   "id": "c7f0332f1df97f86",
   "outputs": [],
   "execution_count": 5
  },
  {
   "metadata": {
    "ExecuteTime": {
     "end_time": "2025-05-28T01:29:19.932428Z",
     "start_time": "2025-05-28T01:29:19.918346Z"
    }
   },
   "cell_type": "code",
   "source": [
    "def train_ensemble_model(X_train, y_train):\n",
    "    \"\"\"训练集成模型减少过拟合\"\"\"\n",
    "    # 基础模型\n",
    "    rf = RandomForestClassifier(\n",
    "        n_estimators=100,\n",
    "        max_depth=5,\n",
    "        min_samples_split=10,\n",
    "        min_samples_leaf=4,\n",
    "        random_state=42\n",
    "    )\n",
    "\n",
    "    lr = LogisticRegression(random_state=42)\n",
    "    svc = SVC(probability=True, random_state=42)\n",
    "\n",
    "    # 投票分类器\n",
    "    ensemble = VotingClassifier(\n",
    "        estimators=[('rf', rf), ('lr', lr), ('svc', svc)],\n",
    "        voting='soft'\n",
    "    )\n",
    "\n",
    "    # 训练集成模型\n",
    "    ensemble.fit(X_train, y_train)\n",
    "    return ensemble"
   ],
   "id": "3875def2e1070d18",
   "outputs": [],
   "execution_count": 6
  },
  {
   "metadata": {
    "ExecuteTime": {
     "end_time": "2025-05-28T01:29:22.824951Z",
     "start_time": "2025-05-28T01:29:22.810962Z"
    }
   },
   "cell_type": "code",
   "source": [
    "def evaluate_model(model, X_train, X_test, y_train, y_test):\n",
    "    \"\"\"评估模型性能\"\"\"\n",
    "    # 预测\n",
    "    y_train_pred = model.predict(X_train)\n",
    "    y_test_pred = model.predict(X_test)\n",
    "\n",
    "    # 计算准确率\n",
    "    train_accuracy = accuracy_score(y_train, y_train_pred)\n",
    "    test_accuracy = accuracy_score(y_test, y_test_pred)\n",
    "\n",
    "    print(f\"训练集准确率: {train_accuracy:.4f}\")\n",
    "    print(f\"测试集准确率: {test_accuracy:.4f}\")\n",
    "\n",
    "    # 检查过拟合\n",
    "    overfit_diff = train_accuracy - test_accuracy\n",
    "    print(f\"过拟合程度(训练-测试): {overfit_diff:.4f}\")\n",
    "\n",
    "    # 打印分类报告\n",
    "    print(\"分类报告:\")\n",
    "    print(classification_report(y_test, y_test_pred))\n",
    "\n",
    "    # 绘制混淆矩阵\n",
    "    cm = confusion_matrix(y_test, y_test_pred)\n",
    "    plt.figure(figsize=(8, 6))\n",
    "    sns.heatmap(cm, annot=True, fmt='d', cmap='Blues')\n",
    "    plt.xlabel('预测标签')\n",
    "    plt.ylabel('真实标签')\n",
    "    plt.title('混淆矩阵')\n",
    "    plt.tight_layout()\n",
    "    plt.savefig('confusion_matrix.png')\n",
    "    plt.close()\n",
    "\n",
    "    # 交叉验证\n",
    "    cv_scores = cross_val_score(model, X_train, y_train, cv=5, scoring='accuracy')\n",
    "    print(f\"交叉验证准确率: {np.mean(cv_scores):.4f} ± {np.std(cv_scores):.4f}\")\n",
    "\n",
    "    # 特征重要性（如果模型支持）\n",
    "    if hasattr(model, 'feature_importances_'):\n",
    "        plt.figure(figsize=(8, 6))\n",
    "        plt.bar(['g1.ASI'], model.feature_importances_)\n",
    "        plt.title('特征重要性')\n",
    "        plt.tight_layout()\n",
    "        plt.savefig('feature_importance.png')\n",
    "        plt.close()\n",
    "\n",
    "    return {\n",
    "        'train_accuracy': train_accuracy,\n",
    "        'test_accuracy': test_accuracy,\n",
    "        'cv_accuracy': np.mean(cv_scores),\n",
    "        'overfit_diff': overfit_diff\n",
    "    }"
   ],
   "id": "6f2946d18a6dc233",
   "outputs": [],
   "execution_count": 7
  },
  {
   "metadata": {
    "ExecuteTime": {
     "end_time": "2025-05-28T01:31:04.013140Z",
     "start_time": "2025-05-28T01:30:56.248886Z"
    }
   },
   "cell_type": "code",
   "source": [
    "def main():\n",
    "    plt.rcParams[\"font.family\"] = [\"SimHei\"]  # 设置中文字体\n",
    "    plt.rcParams[\"axes.unicode_minus\"] = False  # 解决负号显示问题\n",
    "    \"\"\"主函数，执行完整的机器学习流程\"\"\"\n",
    "    # 文件路径，用户需要替换为自己的数据文件路径\n",
    "    file_path = './ASIHdata.csv'\n",
    "\n",
    "    # 加载数据\n",
    "    print(\"正在加载数据...\")\n",
    "    data = load_data(file_path)\n",
    "\n",
    "    # 准备数据\n",
    "    print(\"\\n正在准备数据...\")\n",
    "    X_train, X_test, y_train, y_test = prepare_data(data)\n",
    "\n",
    "    # 寻找最优参数\n",
    "    print(\"\\n正在寻找最优参数...\")\n",
    "    # best_model = find_best_params(X_train, y_train)\n",
    "\n",
    "    # 或者直接使用集成模型\n",
    "    best_model = train_ensemble_model(X_train, y_train)\n",
    "\n",
    "    # 评估模型\n",
    "    print(\"\\n正在评估模型...\")\n",
    "    metrics = evaluate_model(best_model, X_train, X_test, y_train, y_test)\n",
    "\n",
    "    # 输出结果\n",
    "    print(\"\\n模型性能汇总:\")\n",
    "    print(f\"训练集准确率: {metrics['train_accuracy']:.4f}\")\n",
    "    print(f\"测试集准确率: {metrics['test_accuracy']:.4f}\")\n",
    "    print(f\"交叉验证准确率: {metrics['cv_accuracy']:.4f}\")\n",
    "    print(f\"过拟合程度: {metrics['overfit_diff']:.4f}\")\n",
    "\n",
    "    # 判断是否过拟合\n",
    "    if metrics['overfit_diff'] > 0.1:\n",
    "        print(\"\\n警告: 模型存在过拟合现象! 建议:\")\n",
    "        print(\"1. 增加训练数据\")\n",
    "        print(\"2. 进一步调整参数，减小模型复杂度\")\n",
    "        print(\"3. 使用集成学习方法\")\n",
    "    else:\n",
    "        print(\"\\n模型表现良好，过拟合风险较低\")\n",
    "if __name__ == \"__main__\":\n",
    "    main()"
   ],
   "id": "7a99b6e9f6723cf3",
   "outputs": [
    {
     "name": "stdout",
     "output_type": "stream",
     "text": [
      "正在加载数据...\n",
      "数据加载成功，共3430行，8列\n",
      "\n",
      "正在准备数据...\n",
      "\n",
      "正在寻找最优参数...\n",
      "\n",
      "正在评估模型...\n",
      "训练集准确率: 0.5718\n",
      "测试集准确率: 0.5029\n",
      "过拟合程度(训练-测试): 0.0689\n",
      "分类报告:\n",
      "              precision    recall  f1-score   support\n",
      "\n",
      "          -1       0.51      0.64      0.57       348\n",
      "           1       0.49      0.36      0.42       338\n",
      "\n",
      "    accuracy                           0.50       686\n",
      "   macro avg       0.50      0.50      0.49       686\n",
      "weighted avg       0.50      0.50      0.49       686\n",
      "\n",
      "交叉验证准确率: 0.5127 ± 0.0173\n",
      "\n",
      "模型性能汇总:\n",
      "训练集准确率: 0.5718\n",
      "测试集准确率: 0.5029\n",
      "交叉验证准确率: 0.5127\n",
      "过拟合程度: 0.0689\n",
      "\n",
      "模型表现良好，过拟合风险较低\n"
     ]
    }
   ],
   "execution_count": 10
  },
  {
   "metadata": {},
   "cell_type": "code",
   "outputs": [],
   "execution_count": null,
   "source": "",
   "id": "717f637693bfdf77"
  }
 ],
 "metadata": {
  "kernelspec": {
   "display_name": "Python 3",
   "language": "python",
   "name": "python3"
  },
  "language_info": {
   "codemirror_mode": {
    "name": "ipython",
    "version": 2
   },
   "file_extension": ".py",
   "mimetype": "text/x-python",
   "name": "python",
   "nbconvert_exporter": "python",
   "pygments_lexer": "ipython2",
   "version": "2.7.6"
  }
 },
 "nbformat": 4,
 "nbformat_minor": 5
}
