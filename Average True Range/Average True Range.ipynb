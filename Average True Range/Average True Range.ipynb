{
 "cells": [
  {
   "cell_type": "code",
   "id": "initial_id",
   "metadata": {
    "collapsed": true,
    "ExecuteTime": {
     "end_time": "2025-05-29T07:10:52.286602Z",
     "start_time": "2025-05-29T07:10:51.182555Z"
    }
   },
   "source": [
    "import os\n",
    "import pandas as pd\n",
    "import numpy as np\n",
    "import talib as ta\n",
    "import matplotlib.pyplot as plt\n",
    "from tqdm import tqdm"
   ],
   "outputs": [],
   "execution_count": 1
  },
  {
   "metadata": {
    "ExecuteTime": {
     "end_time": "2025-05-29T07:10:52.302413Z",
     "start_time": "2025-05-29T07:10:52.294434Z"
    }
   },
   "cell_type": "code",
   "source": "path = \"Z:\\data\\BTCUSDT\\BTCUSDT-1h\"",
   "id": "113081abd0bda390",
   "outputs": [],
   "execution_count": 2
  },
  {
   "metadata": {
    "ExecuteTime": {
     "end_time": "2025-05-29T07:10:59.455973Z",
     "start_time": "2025-05-29T07:10:55.897594Z"
    }
   },
   "cell_type": "code",
   "source": [
    "filelist = os.listdir(path)\n",
    "filelist.sort()\n",
    "df = pd.DataFrame()\n",
    "for file in tqdm(filelist[-400:]):\n",
    "    df0 = pd.read_csv(os.path.join(path, file))\n",
    "    df = pd.concat([df, df0], ignore_index=True)"
   ],
   "id": "66f3e76c17232d1e",
   "outputs": [
    {
     "name": "stderr",
     "output_type": "stream",
     "text": [
      "100%|██████████| 400/400 [00:03<00:00, 116.31it/s]\n"
     ]
    }
   ],
   "execution_count": 3
  },
  {
   "metadata": {
    "ExecuteTime": {
     "end_time": "2025-05-29T07:14:39.225329Z",
     "start_time": "2025-05-29T07:14:39.212366Z"
    }
   },
   "cell_type": "code",
   "source": [
    "df1 = df[['open_time', 'open', 'high', 'low', 'close', 'volume']]\n",
    "df1.columns = ['t', 'o', 'h', 'l', 'c', 'v']\n",
    "df1 = df1.dropna()"
   ],
   "id": "3e49837689809fc3",
   "outputs": [],
   "execution_count": 13
  },
  {
   "metadata": {
    "ExecuteTime": {
     "end_time": "2025-05-29T07:14:39.967554Z",
     "start_time": "2025-05-29T07:14:39.954589Z"
    }
   },
   "cell_type": "code",
   "source": [
    "# 计算ATR平均真实波动\n",
    "def ATR(df, length=14):\n",
    "    df = df.copy()\n",
    "    # 计算真实波动(TR)\n",
    "    df['H-L'] = df['h'] - df['l']\n",
    "    df['H-PreClose'] = np.abs(df['h'] - df['c'].shift(1))\n",
    "    df['L-PreClose'] = np.abs(df['l'] - df['c'].shift(1))\n",
    "    df['TR'] = df[['H-L', 'H-PreClose', 'L-PreClose']].max(axis=1)\n",
    "\n",
    "    # 计算ATR\n",
    "    df['ATR'] = 0\n",
    "    df = df.reset_index(drop=True)  # 在关键步骤重置索引\n",
    "    for i in range(length - 1, len(df)):\n",
    "        if i == length - 1:\n",
    "            df.loc[df.index[i], 'ATR'] = np.mean((df.loc[df.index[0:i + 1], 'TR'])) / length\n",
    "        else:\n",
    "            df.loc[df.index[i], 'ATR'] = (df.loc[df.index[i - 1], 'ATR'] * (length - 1) + df.loc[\n",
    "                df.index[i], 'TR']) / length\n",
    "    return df['ATR']"
   ],
   "id": "c9a3467b1215781e",
   "outputs": [],
   "execution_count": 14
  },
  {
   "metadata": {
    "ExecuteTime": {
     "end_time": "2025-05-29T07:14:43.339330Z",
     "start_time": "2025-05-29T07:14:40.697465Z"
    }
   },
   "cell_type": "code",
   "source": [
    "length = 14\n",
    "df1['g1.ATR'] = 0\n",
    "df1['g1.ATR'] = ATR(df=df1, length=length)\n",
    "df1 = df1[length - 1:]  # 去除空值\n",
    "df1"
   ],
   "id": "71ccb17f0680dcbc",
   "outputs": [
    {
     "name": "stderr",
     "output_type": "stream",
     "text": [
      "C:\\Users\\yyx\\AppData\\Local\\Temp\\ipykernel_20092\\507226766.py:15: FutureWarning: Setting an item of incompatible dtype is deprecated and will raise an error in a future version of pandas. Value '7.554591836734679' has dtype incompatible with int64, please explicitly cast to a compatible dtype first.\n",
      "  df.loc[df.index[i], 'ATR'] = np.mean((df.loc[df.index[0:i + 1], 'TR'])) / length\n"
     ]
    },
    {
     "data": {
      "text/plain": [
       "                  t        o        h        l        c          v      g1.ATR\n",
       "13    1662382800000  19715.9  19782.0  19702.0  19731.0  16609.655    7.554592\n",
       "14    1662386400000  19731.0  19889.1  19713.7  19834.6  22538.848   19.543550\n",
       "15    1662390000000  19834.7  19944.0  19827.5  19848.1  48909.574   26.469010\n",
       "16    1662393600000  19848.1  19904.5  19815.0  19839.4  18902.583   30.971224\n",
       "17    1662397200000  19839.4  19850.8  19780.7  19816.9  10108.872   33.766136\n",
       "...             ...      ...      ...      ...      ...        ...         ...\n",
       "9595  1696878000000  27555.0  27632.4  27526.3  27607.6   8683.886  142.023827\n",
       "9596  1696881600000  27607.7  27644.0  27542.9  27556.2   4995.344  139.100697\n",
       "9597  1696885200000  27556.1  27627.2  27542.3  27607.4   3540.588  135.229218\n",
       "9598  1696888800000  27607.4  27627.0  27562.0  27575.9   3771.446  130.212845\n",
       "9599  1696892400000  27575.9  27605.0  27558.1  27578.3   2906.802  124.261928\n",
       "\n",
       "[9587 rows x 7 columns]"
      ],
      "text/html": [
       "<div>\n",
       "<style scoped>\n",
       "    .dataframe tbody tr th:only-of-type {\n",
       "        vertical-align: middle;\n",
       "    }\n",
       "\n",
       "    .dataframe tbody tr th {\n",
       "        vertical-align: top;\n",
       "    }\n",
       "\n",
       "    .dataframe thead th {\n",
       "        text-align: right;\n",
       "    }\n",
       "</style>\n",
       "<table border=\"1\" class=\"dataframe\">\n",
       "  <thead>\n",
       "    <tr style=\"text-align: right;\">\n",
       "      <th></th>\n",
       "      <th>t</th>\n",
       "      <th>o</th>\n",
       "      <th>h</th>\n",
       "      <th>l</th>\n",
       "      <th>c</th>\n",
       "      <th>v</th>\n",
       "      <th>g1.ATR</th>\n",
       "    </tr>\n",
       "  </thead>\n",
       "  <tbody>\n",
       "    <tr>\n",
       "      <th>13</th>\n",
       "      <td>1662382800000</td>\n",
       "      <td>19715.9</td>\n",
       "      <td>19782.0</td>\n",
       "      <td>19702.0</td>\n",
       "      <td>19731.0</td>\n",
       "      <td>16609.655</td>\n",
       "      <td>7.554592</td>\n",
       "    </tr>\n",
       "    <tr>\n",
       "      <th>14</th>\n",
       "      <td>1662386400000</td>\n",
       "      <td>19731.0</td>\n",
       "      <td>19889.1</td>\n",
       "      <td>19713.7</td>\n",
       "      <td>19834.6</td>\n",
       "      <td>22538.848</td>\n",
       "      <td>19.543550</td>\n",
       "    </tr>\n",
       "    <tr>\n",
       "      <th>15</th>\n",
       "      <td>1662390000000</td>\n",
       "      <td>19834.7</td>\n",
       "      <td>19944.0</td>\n",
       "      <td>19827.5</td>\n",
       "      <td>19848.1</td>\n",
       "      <td>48909.574</td>\n",
       "      <td>26.469010</td>\n",
       "    </tr>\n",
       "    <tr>\n",
       "      <th>16</th>\n",
       "      <td>1662393600000</td>\n",
       "      <td>19848.1</td>\n",
       "      <td>19904.5</td>\n",
       "      <td>19815.0</td>\n",
       "      <td>19839.4</td>\n",
       "      <td>18902.583</td>\n",
       "      <td>30.971224</td>\n",
       "    </tr>\n",
       "    <tr>\n",
       "      <th>17</th>\n",
       "      <td>1662397200000</td>\n",
       "      <td>19839.4</td>\n",
       "      <td>19850.8</td>\n",
       "      <td>19780.7</td>\n",
       "      <td>19816.9</td>\n",
       "      <td>10108.872</td>\n",
       "      <td>33.766136</td>\n",
       "    </tr>\n",
       "    <tr>\n",
       "      <th>...</th>\n",
       "      <td>...</td>\n",
       "      <td>...</td>\n",
       "      <td>...</td>\n",
       "      <td>...</td>\n",
       "      <td>...</td>\n",
       "      <td>...</td>\n",
       "      <td>...</td>\n",
       "    </tr>\n",
       "    <tr>\n",
       "      <th>9595</th>\n",
       "      <td>1696878000000</td>\n",
       "      <td>27555.0</td>\n",
       "      <td>27632.4</td>\n",
       "      <td>27526.3</td>\n",
       "      <td>27607.6</td>\n",
       "      <td>8683.886</td>\n",
       "      <td>142.023827</td>\n",
       "    </tr>\n",
       "    <tr>\n",
       "      <th>9596</th>\n",
       "      <td>1696881600000</td>\n",
       "      <td>27607.7</td>\n",
       "      <td>27644.0</td>\n",
       "      <td>27542.9</td>\n",
       "      <td>27556.2</td>\n",
       "      <td>4995.344</td>\n",
       "      <td>139.100697</td>\n",
       "    </tr>\n",
       "    <tr>\n",
       "      <th>9597</th>\n",
       "      <td>1696885200000</td>\n",
       "      <td>27556.1</td>\n",
       "      <td>27627.2</td>\n",
       "      <td>27542.3</td>\n",
       "      <td>27607.4</td>\n",
       "      <td>3540.588</td>\n",
       "      <td>135.229218</td>\n",
       "    </tr>\n",
       "    <tr>\n",
       "      <th>9598</th>\n",
       "      <td>1696888800000</td>\n",
       "      <td>27607.4</td>\n",
       "      <td>27627.0</td>\n",
       "      <td>27562.0</td>\n",
       "      <td>27575.9</td>\n",
       "      <td>3771.446</td>\n",
       "      <td>130.212845</td>\n",
       "    </tr>\n",
       "    <tr>\n",
       "      <th>9599</th>\n",
       "      <td>1696892400000</td>\n",
       "      <td>27575.9</td>\n",
       "      <td>27605.0</td>\n",
       "      <td>27558.1</td>\n",
       "      <td>27578.3</td>\n",
       "      <td>2906.802</td>\n",
       "      <td>124.261928</td>\n",
       "    </tr>\n",
       "  </tbody>\n",
       "</table>\n",
       "<p>9587 rows × 7 columns</p>\n",
       "</div>"
      ]
     },
     "execution_count": 15,
     "metadata": {},
     "output_type": "execute_result"
    }
   ],
   "execution_count": 15
  },
  {
   "metadata": {
    "ExecuteTime": {
     "end_time": "2025-05-29T07:15:37.223240Z",
     "start_time": "2025-05-29T07:15:37.149409Z"
    }
   },
   "cell_type": "code",
   "source": "df1.to_csv(\"ATRH.csv\",index=False)",
   "id": "8eff52d8f16c6d93",
   "outputs": [],
   "execution_count": 16
  },
  {
   "metadata": {},
   "cell_type": "code",
   "outputs": [],
   "execution_count": null,
   "source": "",
   "id": "38d2fc12e3afa6af"
  }
 ],
 "metadata": {
  "kernelspec": {
   "display_name": "Python 3",
   "language": "python",
   "name": "python3"
  },
  "language_info": {
   "codemirror_mode": {
    "name": "ipython",
    "version": 2
   },
   "file_extension": ".py",
   "mimetype": "text/x-python",
   "name": "python",
   "nbconvert_exporter": "python",
   "pygments_lexer": "ipython2",
   "version": "2.7.6"
  }
 },
 "nbformat": 4,
 "nbformat_minor": 5
}
