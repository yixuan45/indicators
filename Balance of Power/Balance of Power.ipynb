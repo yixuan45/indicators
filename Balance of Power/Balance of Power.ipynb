{
 "cells": [
  {
   "cell_type": "code",
   "id": "initial_id",
   "metadata": {
    "collapsed": true,
    "ExecuteTime": {
     "end_time": "2025-06-03T01:54:26.888139Z",
     "start_time": "2025-06-03T01:54:26.020554Z"
    }
   },
   "source": [
    "import os\n",
    "import pandas as pd\n",
    "import numpy as np\n",
    "import talib as ta\n",
    "import matplotlib.pyplot as plt\n",
    "from tqdm import tqdm"
   ],
   "outputs": [],
   "execution_count": 1
  },
  {
   "metadata": {
    "ExecuteTime": {
     "end_time": "2025-06-03T01:54:48.028228Z",
     "start_time": "2025-06-03T01:54:48.014197Z"
    }
   },
   "cell_type": "code",
   "source": "path = \"Z:\\data\\BTCUSDT\\BTCUSDT-1h\"",
   "id": "e5d346c728b98c9e",
   "outputs": [],
   "execution_count": 2
  },
  {
   "metadata": {
    "ExecuteTime": {
     "end_time": "2025-06-03T01:55:50.568520Z",
     "start_time": "2025-06-03T01:55:48.695043Z"
    }
   },
   "cell_type": "code",
   "source": [
    "filelist = os.listdir(path)\n",
    "filelist.sort()\n",
    "df = pd.DataFrame()\n",
    "for file in tqdm(filelist[-300:]):\n",
    "    df0 = pd.read_csv(os.path.join(path, file))\n",
    "    df = pd.concat([df, df0], ignore_index=True)"
   ],
   "id": "ab6f1c5367e90d1c",
   "outputs": [
    {
     "name": "stderr",
     "output_type": "stream",
     "text": [
      "100%|██████████| 300/300 [00:01<00:00, 172.18it/s]\n"
     ]
    }
   ],
   "execution_count": 3
  },
  {
   "metadata": {
    "ExecuteTime": {
     "end_time": "2025-06-03T02:02:21.899222Z",
     "start_time": "2025-06-03T02:02:21.886609Z"
    }
   },
   "cell_type": "code",
   "source": [
    "df1 = df[['open_time', 'open', 'high', 'low', 'close', 'volume']]\n",
    "df1.columns = ['t', 'o', 'h', 'l', 'c', 'v']\n",
    "df1 = df1.dropna()"
   ],
   "id": "21113c87fa0946d9",
   "outputs": [],
   "execution_count": 11
  },
  {
   "metadata": {
    "ExecuteTime": {
     "end_time": "2025-06-03T02:02:22.256923Z",
     "start_time": "2025-06-03T02:02:22.245395Z"
    }
   },
   "cell_type": "code",
   "source": [
    "# 计算Balance of Power\n",
    "def get_bop(df, length=14):\n",
    "    df = df.copy()\n",
    "    df['bop']=(df['c']-df['o'])/(df['h']-df['l']) # (收盘价 - 开盘价) / (最高价 - 最低价)\n",
    "    df['bop_ma']=df['bop'].rolling(14).mean()\n",
    "    return df['bop_ma']"
   ],
   "id": "2264ffbcf5b84f83",
   "outputs": [],
   "execution_count": 12
  },
  {
   "metadata": {
    "ExecuteTime": {
     "end_time": "2025-06-03T02:02:23.271929Z",
     "start_time": "2025-06-03T02:02:23.249987Z"
    }
   },
   "cell_type": "code",
   "source": [
    "df1['g1.BOP']=get_bop(df1)\n",
    "df1=df1[13:]\n",
    "df1"
   ],
   "id": "503369fab8ff5321",
   "outputs": [
    {
     "data": {
      "text/plain": [
       "                  t        o        h        l        c          v    g1.BOP\n",
       "13    1671022800000  17910.1  17964.3  17853.8  17889.9  23363.987  0.089936\n",
       "14    1671026400000  17889.9  18086.8  17889.0  18055.8  55287.673  0.115400\n",
       "15    1671030000000  18055.8  18111.5  18013.6  18054.8  30987.972  0.150484\n",
       "16    1671033600000  18054.8  18149.6  18053.1  18096.9  37273.480  0.165913\n",
       "17    1671037200000  18096.9  18146.6  18069.0  18089.3  16822.793  0.174777\n",
       "...             ...      ...      ...      ...      ...        ...       ...\n",
       "7195  1696878000000  27555.0  27632.4  27526.3  27607.6   8683.886 -0.083504\n",
       "7196  1696881600000  27607.7  27644.0  27542.9  27556.2   4995.344 -0.168670\n",
       "7197  1696885200000  27556.1  27627.2  27542.3  27607.4   3540.588 -0.062287\n",
       "7198  1696888800000  27607.4  27627.0  27562.0  27575.9   3771.446 -0.063426\n",
       "7199  1696892400000  27575.9  27605.0  27558.1  27578.3   2906.802 -0.018763\n",
       "\n",
       "[7187 rows x 7 columns]"
      ],
      "text/html": [
       "<div>\n",
       "<style scoped>\n",
       "    .dataframe tbody tr th:only-of-type {\n",
       "        vertical-align: middle;\n",
       "    }\n",
       "\n",
       "    .dataframe tbody tr th {\n",
       "        vertical-align: top;\n",
       "    }\n",
       "\n",
       "    .dataframe thead th {\n",
       "        text-align: right;\n",
       "    }\n",
       "</style>\n",
       "<table border=\"1\" class=\"dataframe\">\n",
       "  <thead>\n",
       "    <tr style=\"text-align: right;\">\n",
       "      <th></th>\n",
       "      <th>t</th>\n",
       "      <th>o</th>\n",
       "      <th>h</th>\n",
       "      <th>l</th>\n",
       "      <th>c</th>\n",
       "      <th>v</th>\n",
       "      <th>g1.BOP</th>\n",
       "    </tr>\n",
       "  </thead>\n",
       "  <tbody>\n",
       "    <tr>\n",
       "      <th>13</th>\n",
       "      <td>1671022800000</td>\n",
       "      <td>17910.1</td>\n",
       "      <td>17964.3</td>\n",
       "      <td>17853.8</td>\n",
       "      <td>17889.9</td>\n",
       "      <td>23363.987</td>\n",
       "      <td>0.089936</td>\n",
       "    </tr>\n",
       "    <tr>\n",
       "      <th>14</th>\n",
       "      <td>1671026400000</td>\n",
       "      <td>17889.9</td>\n",
       "      <td>18086.8</td>\n",
       "      <td>17889.0</td>\n",
       "      <td>18055.8</td>\n",
       "      <td>55287.673</td>\n",
       "      <td>0.115400</td>\n",
       "    </tr>\n",
       "    <tr>\n",
       "      <th>15</th>\n",
       "      <td>1671030000000</td>\n",
       "      <td>18055.8</td>\n",
       "      <td>18111.5</td>\n",
       "      <td>18013.6</td>\n",
       "      <td>18054.8</td>\n",
       "      <td>30987.972</td>\n",
       "      <td>0.150484</td>\n",
       "    </tr>\n",
       "    <tr>\n",
       "      <th>16</th>\n",
       "      <td>1671033600000</td>\n",
       "      <td>18054.8</td>\n",
       "      <td>18149.6</td>\n",
       "      <td>18053.1</td>\n",
       "      <td>18096.9</td>\n",
       "      <td>37273.480</td>\n",
       "      <td>0.165913</td>\n",
       "    </tr>\n",
       "    <tr>\n",
       "      <th>17</th>\n",
       "      <td>1671037200000</td>\n",
       "      <td>18096.9</td>\n",
       "      <td>18146.6</td>\n",
       "      <td>18069.0</td>\n",
       "      <td>18089.3</td>\n",
       "      <td>16822.793</td>\n",
       "      <td>0.174777</td>\n",
       "    </tr>\n",
       "    <tr>\n",
       "      <th>...</th>\n",
       "      <td>...</td>\n",
       "      <td>...</td>\n",
       "      <td>...</td>\n",
       "      <td>...</td>\n",
       "      <td>...</td>\n",
       "      <td>...</td>\n",
       "      <td>...</td>\n",
       "    </tr>\n",
       "    <tr>\n",
       "      <th>7195</th>\n",
       "      <td>1696878000000</td>\n",
       "      <td>27555.0</td>\n",
       "      <td>27632.4</td>\n",
       "      <td>27526.3</td>\n",
       "      <td>27607.6</td>\n",
       "      <td>8683.886</td>\n",
       "      <td>-0.083504</td>\n",
       "    </tr>\n",
       "    <tr>\n",
       "      <th>7196</th>\n",
       "      <td>1696881600000</td>\n",
       "      <td>27607.7</td>\n",
       "      <td>27644.0</td>\n",
       "      <td>27542.9</td>\n",
       "      <td>27556.2</td>\n",
       "      <td>4995.344</td>\n",
       "      <td>-0.168670</td>\n",
       "    </tr>\n",
       "    <tr>\n",
       "      <th>7197</th>\n",
       "      <td>1696885200000</td>\n",
       "      <td>27556.1</td>\n",
       "      <td>27627.2</td>\n",
       "      <td>27542.3</td>\n",
       "      <td>27607.4</td>\n",
       "      <td>3540.588</td>\n",
       "      <td>-0.062287</td>\n",
       "    </tr>\n",
       "    <tr>\n",
       "      <th>7198</th>\n",
       "      <td>1696888800000</td>\n",
       "      <td>27607.4</td>\n",
       "      <td>27627.0</td>\n",
       "      <td>27562.0</td>\n",
       "      <td>27575.9</td>\n",
       "      <td>3771.446</td>\n",
       "      <td>-0.063426</td>\n",
       "    </tr>\n",
       "    <tr>\n",
       "      <th>7199</th>\n",
       "      <td>1696892400000</td>\n",
       "      <td>27575.9</td>\n",
       "      <td>27605.0</td>\n",
       "      <td>27558.1</td>\n",
       "      <td>27578.3</td>\n",
       "      <td>2906.802</td>\n",
       "      <td>-0.018763</td>\n",
       "    </tr>\n",
       "  </tbody>\n",
       "</table>\n",
       "<p>7187 rows × 7 columns</p>\n",
       "</div>"
      ]
     },
     "execution_count": 13,
     "metadata": {},
     "output_type": "execute_result"
    }
   ],
   "execution_count": 13
  },
  {
   "metadata": {
    "ExecuteTime": {
     "end_time": "2025-06-03T02:02:25.472293Z",
     "start_time": "2025-06-03T02:02:25.420234Z"
    }
   },
   "cell_type": "code",
   "source": "df1.to_csv('BOPH.csv', index=False)",
   "id": "440b20b596844f0e",
   "outputs": [],
   "execution_count": 14
  },
  {
   "metadata": {},
   "cell_type": "code",
   "outputs": [],
   "execution_count": null,
   "source": "",
   "id": "7651bbe7c06d8fe"
  }
 ],
 "metadata": {
  "kernelspec": {
   "display_name": "Python 3",
   "language": "python",
   "name": "python3"
  },
  "language_info": {
   "codemirror_mode": {
    "name": "ipython",
    "version": 2
   },
   "file_extension": ".py",
   "mimetype": "text/x-python",
   "name": "python",
   "nbconvert_exporter": "python",
   "pygments_lexer": "ipython2",
   "version": "2.7.6"
  }
 },
 "nbformat": 4,
 "nbformat_minor": 5
}
