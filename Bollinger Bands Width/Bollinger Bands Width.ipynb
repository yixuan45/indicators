{
 "cells": [
  {
   "cell_type": "code",
   "id": "initial_id",
   "metadata": {
    "collapsed": true,
    "ExecuteTime": {
     "end_time": "2025-06-04T03:45:50.878581Z",
     "start_time": "2025-06-04T03:45:49.851751Z"
    }
   },
   "source": [
    "import os\n",
    "import pandas as pd\n",
    "import numpy as np\n",
    "import talib as ta\n",
    "import matplotlib.pyplot as plt\n",
    "from tqdm import tqdm"
   ],
   "outputs": [],
   "execution_count": 1
  },
  {
   "metadata": {
    "ExecuteTime": {
     "end_time": "2025-06-04T03:45:52.561763Z",
     "start_time": "2025-06-04T03:45:52.549768Z"
    }
   },
   "cell_type": "code",
   "source": "path = \"Z:\\data\\BTCUSDT\\BTCUSDT-1h\"",
   "id": "872fb224f86cc3e2",
   "outputs": [],
   "execution_count": 2
  },
  {
   "metadata": {
    "ExecuteTime": {
     "end_time": "2025-06-04T03:46:00.054443Z",
     "start_time": "2025-06-04T03:45:58.087260Z"
    }
   },
   "cell_type": "code",
   "source": [
    "filelist = os.listdir(path)\n",
    "filelist.sort()\n",
    "df = pd.DataFrame()\n",
    "for file in tqdm(filelist[-300:]):\n",
    "    df0 = pd.read_csv(os.path.join(path, file))\n",
    "    df = pd.concat([df, df0], ignore_index=True)"
   ],
   "id": "56a324038edbdd61",
   "outputs": [
    {
     "name": "stderr",
     "output_type": "stream",
     "text": [
      "100%|██████████| 300/300 [00:01<00:00, 160.40it/s]\n"
     ]
    }
   ],
   "execution_count": 3
  },
  {
   "metadata": {
    "ExecuteTime": {
     "end_time": "2025-06-04T03:46:03.265658Z",
     "start_time": "2025-06-04T03:46:03.252693Z"
    }
   },
   "cell_type": "code",
   "source": [
    "df1 = df[['open_time', 'open', 'high', 'low', 'close', 'volume']]\n",
    "df1.columns = ['t', 'o', 'h', 'l', 'c', 'v']\n",
    "df1 = df1.dropna()"
   ],
   "id": "571411925bdd8319",
   "outputs": [],
   "execution_count": 4
  },
  {
   "metadata": {
    "ExecuteTime": {
     "end_time": "2025-06-04T03:47:21.979538Z",
     "start_time": "2025-06-04T03:47:21.966573Z"
    }
   },
   "cell_type": "code",
   "source": [
    "# 计算中轨线(MB)、上轨线(UB)和下轨线(LB)\n",
    "def get_mb_ub_lb(df, length=20, K=2):\n",
    "    df = df.copy()\n",
    "    df['MB'] = df['c'].rolling(length).mean()  # 计算20日收盘价的简单移动平均线\n",
    "    # 计算标准差\n",
    "    df['seta'] = np.sqrt((np.square(df['c'] - df['MB'])).rolling(length).mean())\n",
    "    df['UB'] = df['MB'] + K * df['seta']\n",
    "    df['LB'] = df['MB'] - K * df['seta']\n",
    "    df['g1.BBW'] = (df['UB'] - df['LB']) / df['MB']\n",
    "    return df['g1.BBW']"
   ],
   "id": "81ac0280449fd20f",
   "outputs": [],
   "execution_count": 5
  },
  {
   "metadata": {
    "ExecuteTime": {
     "end_time": "2025-06-04T03:47:45.695929Z",
     "start_time": "2025-06-04T03:47:45.666037Z"
    }
   },
   "cell_type": "code",
   "source": [
    "df1['g1.BBW'] = get_mb_ub_lb(df1)\n",
    "df1 = df1[39:]\n",
    "df1"
   ],
   "id": "e610d4328b20783a",
   "outputs": [
    {
     "data": {
      "text/plain": [
       "                  t        o        h        l        c          v    g1.BBW\n",
       "39    1671116400000  17448.0  17483.2  17355.0  17424.0  30874.038  0.036998\n",
       "40    1671120000000  17424.0  17437.2  17330.0  17391.7  26907.949  0.039019\n",
       "41    1671123600000  17391.7  17424.4  17367.2  17392.1  15494.334  0.040952\n",
       "42    1671127200000  17392.1  17415.2  17310.0  17395.5  19325.547  0.042449\n",
       "43    1671130800000  17395.5  17467.7  17383.0  17435.1  17252.568  0.043105\n",
       "...             ...      ...      ...      ...      ...        ...       ...\n",
       "7195  1696878000000  27555.0  27632.4  27526.3  27607.6   8683.886  0.030692\n",
       "7196  1696881600000  27607.7  27644.0  27542.9  27556.2   4995.344  0.030789\n",
       "7197  1696885200000  27556.1  27627.2  27542.3  27607.4   3540.588  0.030729\n",
       "7198  1696888800000  27607.4  27627.0  27562.0  27575.9   3771.446  0.030741\n",
       "7199  1696892400000  27575.9  27605.0  27558.1  27578.3   2906.802  0.030750\n",
       "\n",
       "[7161 rows x 7 columns]"
      ],
      "text/html": [
       "<div>\n",
       "<style scoped>\n",
       "    .dataframe tbody tr th:only-of-type {\n",
       "        vertical-align: middle;\n",
       "    }\n",
       "\n",
       "    .dataframe tbody tr th {\n",
       "        vertical-align: top;\n",
       "    }\n",
       "\n",
       "    .dataframe thead th {\n",
       "        text-align: right;\n",
       "    }\n",
       "</style>\n",
       "<table border=\"1\" class=\"dataframe\">\n",
       "  <thead>\n",
       "    <tr style=\"text-align: right;\">\n",
       "      <th></th>\n",
       "      <th>t</th>\n",
       "      <th>o</th>\n",
       "      <th>h</th>\n",
       "      <th>l</th>\n",
       "      <th>c</th>\n",
       "      <th>v</th>\n",
       "      <th>g1.BBW</th>\n",
       "    </tr>\n",
       "  </thead>\n",
       "  <tbody>\n",
       "    <tr>\n",
       "      <th>39</th>\n",
       "      <td>1671116400000</td>\n",
       "      <td>17448.0</td>\n",
       "      <td>17483.2</td>\n",
       "      <td>17355.0</td>\n",
       "      <td>17424.0</td>\n",
       "      <td>30874.038</td>\n",
       "      <td>0.036998</td>\n",
       "    </tr>\n",
       "    <tr>\n",
       "      <th>40</th>\n",
       "      <td>1671120000000</td>\n",
       "      <td>17424.0</td>\n",
       "      <td>17437.2</td>\n",
       "      <td>17330.0</td>\n",
       "      <td>17391.7</td>\n",
       "      <td>26907.949</td>\n",
       "      <td>0.039019</td>\n",
       "    </tr>\n",
       "    <tr>\n",
       "      <th>41</th>\n",
       "      <td>1671123600000</td>\n",
       "      <td>17391.7</td>\n",
       "      <td>17424.4</td>\n",
       "      <td>17367.2</td>\n",
       "      <td>17392.1</td>\n",
       "      <td>15494.334</td>\n",
       "      <td>0.040952</td>\n",
       "    </tr>\n",
       "    <tr>\n",
       "      <th>42</th>\n",
       "      <td>1671127200000</td>\n",
       "      <td>17392.1</td>\n",
       "      <td>17415.2</td>\n",
       "      <td>17310.0</td>\n",
       "      <td>17395.5</td>\n",
       "      <td>19325.547</td>\n",
       "      <td>0.042449</td>\n",
       "    </tr>\n",
       "    <tr>\n",
       "      <th>43</th>\n",
       "      <td>1671130800000</td>\n",
       "      <td>17395.5</td>\n",
       "      <td>17467.7</td>\n",
       "      <td>17383.0</td>\n",
       "      <td>17435.1</td>\n",
       "      <td>17252.568</td>\n",
       "      <td>0.043105</td>\n",
       "    </tr>\n",
       "    <tr>\n",
       "      <th>...</th>\n",
       "      <td>...</td>\n",
       "      <td>...</td>\n",
       "      <td>...</td>\n",
       "      <td>...</td>\n",
       "      <td>...</td>\n",
       "      <td>...</td>\n",
       "      <td>...</td>\n",
       "    </tr>\n",
       "    <tr>\n",
       "      <th>7195</th>\n",
       "      <td>1696878000000</td>\n",
       "      <td>27555.0</td>\n",
       "      <td>27632.4</td>\n",
       "      <td>27526.3</td>\n",
       "      <td>27607.6</td>\n",
       "      <td>8683.886</td>\n",
       "      <td>0.030692</td>\n",
       "    </tr>\n",
       "    <tr>\n",
       "      <th>7196</th>\n",
       "      <td>1696881600000</td>\n",
       "      <td>27607.7</td>\n",
       "      <td>27644.0</td>\n",
       "      <td>27542.9</td>\n",
       "      <td>27556.2</td>\n",
       "      <td>4995.344</td>\n",
       "      <td>0.030789</td>\n",
       "    </tr>\n",
       "    <tr>\n",
       "      <th>7197</th>\n",
       "      <td>1696885200000</td>\n",
       "      <td>27556.1</td>\n",
       "      <td>27627.2</td>\n",
       "      <td>27542.3</td>\n",
       "      <td>27607.4</td>\n",
       "      <td>3540.588</td>\n",
       "      <td>0.030729</td>\n",
       "    </tr>\n",
       "    <tr>\n",
       "      <th>7198</th>\n",
       "      <td>1696888800000</td>\n",
       "      <td>27607.4</td>\n",
       "      <td>27627.0</td>\n",
       "      <td>27562.0</td>\n",
       "      <td>27575.9</td>\n",
       "      <td>3771.446</td>\n",
       "      <td>0.030741</td>\n",
       "    </tr>\n",
       "    <tr>\n",
       "      <th>7199</th>\n",
       "      <td>1696892400000</td>\n",
       "      <td>27575.9</td>\n",
       "      <td>27605.0</td>\n",
       "      <td>27558.1</td>\n",
       "      <td>27578.3</td>\n",
       "      <td>2906.802</td>\n",
       "      <td>0.030750</td>\n",
       "    </tr>\n",
       "  </tbody>\n",
       "</table>\n",
       "<p>7161 rows × 7 columns</p>\n",
       "</div>"
      ]
     },
     "execution_count": 6,
     "metadata": {},
     "output_type": "execute_result"
    }
   ],
   "execution_count": 6
  },
  {
   "metadata": {
    "ExecuteTime": {
     "end_time": "2025-06-04T03:48:23.349275Z",
     "start_time": "2025-06-04T03:48:23.305476Z"
    }
   },
   "cell_type": "code",
   "source": "df1.to_csv('BBWH.csv', index=False)",
   "id": "dbe2a35b9cce313b",
   "outputs": [],
   "execution_count": 7
  },
  {
   "metadata": {},
   "cell_type": "code",
   "outputs": [],
   "execution_count": null,
   "source": "",
   "id": "b1546d8c87193f08"
  }
 ],
 "metadata": {
  "kernelspec": {
   "display_name": "Python 3",
   "language": "python",
   "name": "python3"
  },
  "language_info": {
   "codemirror_mode": {
    "name": "ipython",
    "version": 2
   },
   "file_extension": ".py",
   "mimetype": "text/x-python",
   "name": "python",
   "nbconvert_exporter": "python",
   "pygments_lexer": "ipython2",
   "version": "2.7.6"
  }
 },
 "nbformat": 4,
 "nbformat_minor": 5
}
