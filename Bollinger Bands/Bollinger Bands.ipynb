{
 "cells": [
  {
   "cell_type": "code",
   "id": "initial_id",
   "metadata": {
    "collapsed": true,
    "ExecuteTime": {
     "end_time": "2025-06-03T02:14:05.996375Z",
     "start_time": "2025-06-03T02:14:05.118149Z"
    }
   },
   "source": [
    "import os\n",
    "import pandas as pd\n",
    "import numpy as np\n",
    "import talib as ta\n",
    "import matplotlib.pyplot as plt\n",
    "from tqdm import tqdm"
   ],
   "outputs": [],
   "execution_count": 1
  },
  {
   "metadata": {
    "ExecuteTime": {
     "end_time": "2025-06-03T02:14:15.571164Z",
     "start_time": "2025-06-03T02:14:15.557202Z"
    }
   },
   "cell_type": "code",
   "source": "path = \"Z:\\data\\BTCUSDT\\BTCUSDT-1h\"",
   "id": "ea5302fa7111c86b",
   "outputs": [],
   "execution_count": 2
  },
  {
   "metadata": {
    "ExecuteTime": {
     "end_time": "2025-06-03T02:15:22.449133Z",
     "start_time": "2025-06-03T02:15:20.609811Z"
    }
   },
   "cell_type": "code",
   "source": [
    "filelist = os.listdir(path)\n",
    "filelist.sort()\n",
    "df = pd.DataFrame()\n",
    "for file in tqdm(filelist[-300:]):\n",
    "    df0 = pd.read_csv(os.path.join(path, file))\n",
    "    df = pd.concat([df, df0], ignore_index=True)"
   ],
   "id": "475f1d09e8e4caf",
   "outputs": [
    {
     "name": "stderr",
     "output_type": "stream",
     "text": [
      "100%|██████████| 300/300 [00:01<00:00, 172.93it/s]\n"
     ]
    }
   ],
   "execution_count": 3
  },
  {
   "metadata": {
    "ExecuteTime": {
     "end_time": "2025-06-03T02:40:16.978611Z",
     "start_time": "2025-06-03T02:40:16.964648Z"
    }
   },
   "cell_type": "code",
   "source": [
    "df1 = df[['open_time', 'open', 'high', 'low', 'close', 'volume']]\n",
    "df1.columns = ['t', 'o', 'h', 'l', 'c', 'v']\n",
    "df1 = df1.dropna()"
   ],
   "id": "e0aa20a486352e0",
   "outputs": [],
   "execution_count": 30
  },
  {
   "metadata": {
    "ExecuteTime": {
     "end_time": "2025-06-03T02:40:17.196645Z",
     "start_time": "2025-06-03T02:40:17.183713Z"
    }
   },
   "cell_type": "code",
   "source": [
    "# 计算中轨线(MB)、上轨线(UB)和下轨线(LB)\n",
    "def get_mb_ub_lb(df, length=20, K=2):\n",
    "    df=df.copy()\n",
    "    df['MB']=df['c'].rolling(length).mean() # 计算20日收盘价的简单移动平均线\n",
    "    # 计算标准差\n",
    "    df['seta']=np.sqrt((np.square(df['c']-df['MB'])).rolling(length).mean())\n",
    "    df['UB']=df['MB']+K*df['seta']\n",
    "    df['LB']=df['MB']-K*df['seta']\n",
    "    return df['MB'],df['UB'],df['LB']"
   ],
   "id": "35a71da09a3a2dcb",
   "outputs": [],
   "execution_count": 31
  },
  {
   "metadata": {
    "ExecuteTime": {
     "end_time": "2025-06-03T02:40:17.680087Z",
     "start_time": "2025-06-03T02:40:17.658841Z"
    }
   },
   "cell_type": "code",
   "source": [
    "df1['MB'],df1['UB'],df1['LB'] = get_mb_ub_lb(df1)\n",
    "df1=df1[39:]\n",
    "df1"
   ],
   "id": "92759b6935893581",
   "outputs": [
    {
     "data": {
      "text/plain": [
       "                  t        o        h        l        c          v         MB  \\\n",
       "39    1671116400000  17448.0  17483.2  17355.0  17424.0  30874.038  17681.685   \n",
       "40    1671120000000  17424.0  17437.2  17330.0  17391.7  26907.949  17663.165   \n",
       "41    1671123600000  17391.7  17424.4  17367.2  17392.1  15494.334  17641.375   \n",
       "42    1671127200000  17392.1  17415.2  17310.0  17395.5  19325.547  17619.665   \n",
       "43    1671130800000  17395.5  17467.7  17383.0  17435.1  17252.568  17601.225   \n",
       "...             ...      ...      ...      ...      ...        ...        ...   \n",
       "7195  1696878000000  27555.0  27632.4  27526.3  27607.6   8683.886  27664.420   \n",
       "7196  1696881600000  27607.7  27644.0  27542.9  27556.2   4995.344  27651.790   \n",
       "7197  1696885200000  27556.1  27627.2  27542.3  27607.4   3540.588  27634.740   \n",
       "7198  1696888800000  27607.4  27627.0  27562.0  27575.9   3771.446  27617.350   \n",
       "7199  1696892400000  27575.9  27605.0  27558.1  27578.3   2906.802  27600.670   \n",
       "\n",
       "                UB            LB  \n",
       "39    18008.779399  17354.590601  \n",
       "40    18007.761129  17318.568871  \n",
       "41    18002.603643  17280.146357  \n",
       "42    17993.629970  17245.700030  \n",
       "43    17980.578121  17221.871879  \n",
       "...            ...           ...  \n",
       "7195  28088.952892  27239.887108  \n",
       "7196  28077.471425  27226.108575  \n",
       "7197  28059.336894  27210.143106  \n",
       "7198  28041.848828  27192.851172  \n",
       "7199  28025.023499  27176.316501  \n",
       "\n",
       "[7161 rows x 9 columns]"
      ],
      "text/html": [
       "<div>\n",
       "<style scoped>\n",
       "    .dataframe tbody tr th:only-of-type {\n",
       "        vertical-align: middle;\n",
       "    }\n",
       "\n",
       "    .dataframe tbody tr th {\n",
       "        vertical-align: top;\n",
       "    }\n",
       "\n",
       "    .dataframe thead th {\n",
       "        text-align: right;\n",
       "    }\n",
       "</style>\n",
       "<table border=\"1\" class=\"dataframe\">\n",
       "  <thead>\n",
       "    <tr style=\"text-align: right;\">\n",
       "      <th></th>\n",
       "      <th>t</th>\n",
       "      <th>o</th>\n",
       "      <th>h</th>\n",
       "      <th>l</th>\n",
       "      <th>c</th>\n",
       "      <th>v</th>\n",
       "      <th>MB</th>\n",
       "      <th>UB</th>\n",
       "      <th>LB</th>\n",
       "    </tr>\n",
       "  </thead>\n",
       "  <tbody>\n",
       "    <tr>\n",
       "      <th>39</th>\n",
       "      <td>1671116400000</td>\n",
       "      <td>17448.0</td>\n",
       "      <td>17483.2</td>\n",
       "      <td>17355.0</td>\n",
       "      <td>17424.0</td>\n",
       "      <td>30874.038</td>\n",
       "      <td>17681.685</td>\n",
       "      <td>18008.779399</td>\n",
       "      <td>17354.590601</td>\n",
       "    </tr>\n",
       "    <tr>\n",
       "      <th>40</th>\n",
       "      <td>1671120000000</td>\n",
       "      <td>17424.0</td>\n",
       "      <td>17437.2</td>\n",
       "      <td>17330.0</td>\n",
       "      <td>17391.7</td>\n",
       "      <td>26907.949</td>\n",
       "      <td>17663.165</td>\n",
       "      <td>18007.761129</td>\n",
       "      <td>17318.568871</td>\n",
       "    </tr>\n",
       "    <tr>\n",
       "      <th>41</th>\n",
       "      <td>1671123600000</td>\n",
       "      <td>17391.7</td>\n",
       "      <td>17424.4</td>\n",
       "      <td>17367.2</td>\n",
       "      <td>17392.1</td>\n",
       "      <td>15494.334</td>\n",
       "      <td>17641.375</td>\n",
       "      <td>18002.603643</td>\n",
       "      <td>17280.146357</td>\n",
       "    </tr>\n",
       "    <tr>\n",
       "      <th>42</th>\n",
       "      <td>1671127200000</td>\n",
       "      <td>17392.1</td>\n",
       "      <td>17415.2</td>\n",
       "      <td>17310.0</td>\n",
       "      <td>17395.5</td>\n",
       "      <td>19325.547</td>\n",
       "      <td>17619.665</td>\n",
       "      <td>17993.629970</td>\n",
       "      <td>17245.700030</td>\n",
       "    </tr>\n",
       "    <tr>\n",
       "      <th>43</th>\n",
       "      <td>1671130800000</td>\n",
       "      <td>17395.5</td>\n",
       "      <td>17467.7</td>\n",
       "      <td>17383.0</td>\n",
       "      <td>17435.1</td>\n",
       "      <td>17252.568</td>\n",
       "      <td>17601.225</td>\n",
       "      <td>17980.578121</td>\n",
       "      <td>17221.871879</td>\n",
       "    </tr>\n",
       "    <tr>\n",
       "      <th>...</th>\n",
       "      <td>...</td>\n",
       "      <td>...</td>\n",
       "      <td>...</td>\n",
       "      <td>...</td>\n",
       "      <td>...</td>\n",
       "      <td>...</td>\n",
       "      <td>...</td>\n",
       "      <td>...</td>\n",
       "      <td>...</td>\n",
       "    </tr>\n",
       "    <tr>\n",
       "      <th>7195</th>\n",
       "      <td>1696878000000</td>\n",
       "      <td>27555.0</td>\n",
       "      <td>27632.4</td>\n",
       "      <td>27526.3</td>\n",
       "      <td>27607.6</td>\n",
       "      <td>8683.886</td>\n",
       "      <td>27664.420</td>\n",
       "      <td>28088.952892</td>\n",
       "      <td>27239.887108</td>\n",
       "    </tr>\n",
       "    <tr>\n",
       "      <th>7196</th>\n",
       "      <td>1696881600000</td>\n",
       "      <td>27607.7</td>\n",
       "      <td>27644.0</td>\n",
       "      <td>27542.9</td>\n",
       "      <td>27556.2</td>\n",
       "      <td>4995.344</td>\n",
       "      <td>27651.790</td>\n",
       "      <td>28077.471425</td>\n",
       "      <td>27226.108575</td>\n",
       "    </tr>\n",
       "    <tr>\n",
       "      <th>7197</th>\n",
       "      <td>1696885200000</td>\n",
       "      <td>27556.1</td>\n",
       "      <td>27627.2</td>\n",
       "      <td>27542.3</td>\n",
       "      <td>27607.4</td>\n",
       "      <td>3540.588</td>\n",
       "      <td>27634.740</td>\n",
       "      <td>28059.336894</td>\n",
       "      <td>27210.143106</td>\n",
       "    </tr>\n",
       "    <tr>\n",
       "      <th>7198</th>\n",
       "      <td>1696888800000</td>\n",
       "      <td>27607.4</td>\n",
       "      <td>27627.0</td>\n",
       "      <td>27562.0</td>\n",
       "      <td>27575.9</td>\n",
       "      <td>3771.446</td>\n",
       "      <td>27617.350</td>\n",
       "      <td>28041.848828</td>\n",
       "      <td>27192.851172</td>\n",
       "    </tr>\n",
       "    <tr>\n",
       "      <th>7199</th>\n",
       "      <td>1696892400000</td>\n",
       "      <td>27575.9</td>\n",
       "      <td>27605.0</td>\n",
       "      <td>27558.1</td>\n",
       "      <td>27578.3</td>\n",
       "      <td>2906.802</td>\n",
       "      <td>27600.670</td>\n",
       "      <td>28025.023499</td>\n",
       "      <td>27176.316501</td>\n",
       "    </tr>\n",
       "  </tbody>\n",
       "</table>\n",
       "<p>7161 rows × 9 columns</p>\n",
       "</div>"
      ]
     },
     "execution_count": 32,
     "metadata": {},
     "output_type": "execute_result"
    }
   ],
   "execution_count": 32
  },
  {
   "metadata": {
    "ExecuteTime": {
     "end_time": "2025-06-03T02:40:20.598524Z",
     "start_time": "2025-06-03T02:40:20.524225Z"
    }
   },
   "cell_type": "code",
   "source": "df1.to_csv('BBH.csv', index=False)",
   "id": "3326978733fc32c6",
   "outputs": [],
   "execution_count": 33
  },
  {
   "metadata": {},
   "cell_type": "code",
   "outputs": [],
   "execution_count": null,
   "source": "",
   "id": "82bd59e6b7a47084"
  }
 ],
 "metadata": {
  "kernelspec": {
   "display_name": "Python 3",
   "language": "python",
   "name": "python3"
  },
  "language_info": {
   "codemirror_mode": {
    "name": "ipython",
    "version": 2
   },
   "file_extension": ".py",
   "mimetype": "text/x-python",
   "name": "python",
   "nbconvert_exporter": "python",
   "pygments_lexer": "ipython2",
   "version": "2.7.6"
  }
 },
 "nbformat": 4,
 "nbformat_minor": 5
}
