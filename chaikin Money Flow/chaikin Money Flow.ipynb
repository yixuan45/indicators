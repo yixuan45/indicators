{
 "cells": [
  {
   "cell_type": "code",
   "id": "initial_id",
   "metadata": {
    "collapsed": true,
    "ExecuteTime": {
     "end_time": "2025-06-05T02:59:11.205634Z",
     "start_time": "2025-06-05T02:59:07.721102Z"
    }
   },
   "source": [
    "import os\n",
    "import pandas as pd\n",
    "import numpy as np\n",
    "import talib as ta\n",
    "import matplotlib.pyplot as plt\n",
    "from tqdm import tqdm"
   ],
   "outputs": [],
   "execution_count": 1
  },
  {
   "metadata": {
    "ExecuteTime": {
     "end_time": "2025-06-05T02:59:11.423927Z",
     "start_time": "2025-06-05T02:59:11.408968Z"
    }
   },
   "cell_type": "code",
   "source": "path = \"Z:\\data\\BTCUSDT\\BTCUSDT-1h\"",
   "id": "bbfa630e1473c4da",
   "outputs": [],
   "execution_count": 2
  },
  {
   "metadata": {
    "ExecuteTime": {
     "end_time": "2025-06-05T02:59:24.276145Z",
     "start_time": "2025-06-05T02:59:17.930521Z"
    }
   },
   "cell_type": "code",
   "source": [
    "filelist = os.listdir(path)\n",
    "filelist.sort()\n",
    "df = pd.DataFrame()\n",
    "for file in tqdm(filelist[-300:]):\n",
    "    df0 = pd.read_csv(os.path.join(path, file))\n",
    "    df = pd.concat([df, df0], ignore_index=True)"
   ],
   "id": "a2c23de9275c8000",
   "outputs": [
    {
     "name": "stderr",
     "output_type": "stream",
     "text": [
      "100%|██████████| 300/300 [00:05<00:00, 50.09it/s]\n"
     ]
    }
   ],
   "execution_count": 3
  },
  {
   "metadata": {
    "ExecuteTime": {
     "end_time": "2025-06-05T03:05:07.239789Z",
     "start_time": "2025-06-05T03:05:07.229817Z"
    }
   },
   "cell_type": "code",
   "source": [
    "df1 = df[['open_time', 'open', 'high', 'low', 'close', 'volume']]\n",
    "df1.columns = ['t', 'o', 'h', 'l', 'c', 'v']\n",
    "df1 = df1.dropna()"
   ],
   "id": "f320255bda910d8",
   "outputs": [],
   "execution_count": 11
  },
  {
   "metadata": {
    "ExecuteTime": {
     "end_time": "2025-06-05T03:05:07.644896Z",
     "start_time": "2025-06-05T03:05:07.631754Z"
    }
   },
   "cell_type": "code",
   "source": [
    "# 计算中轨线(MB)、上轨线(UB)和下轨线(LB)\n",
    "def get_cmf(df, length=14):\n",
    "    df = df.copy()\n",
    "    df['MFM'] = ((df['c'] - df['l']) - (df['h'] - df['c'])) / (df['h'] - df['l'])\n",
    "    df['MFV'] = df['MFM'] * df['v']\n",
    "    df['g1.CMF'] = df['MFV'].rolling(length).sum() / df['v'].rolling(length).sum()\n",
    "    return df['g1.CMF']"
   ],
   "id": "841ad0d9ac940df",
   "outputs": [],
   "execution_count": 12
  },
  {
   "metadata": {
    "ExecuteTime": {
     "end_time": "2025-06-05T03:05:08.081272Z",
     "start_time": "2025-06-05T03:05:08.058333Z"
    }
   },
   "cell_type": "code",
   "source": [
    "length = 14\n",
    "df1['g1.CMF'] = get_cmf(df1, length=length)\n",
    "df1 = df1[length - 1:]\n",
    "df1"
   ],
   "id": "3e3e50715852e9fe",
   "outputs": [
    {
     "data": {
      "text/plain": [
       "                  t        o        h        l        c          v    g1.CMF\n",
       "13    1671022800000  17910.1  17964.3  17853.8  17889.9  23363.987  0.107318\n",
       "14    1671026400000  17889.9  18086.8  17889.0  18055.8  55287.673  0.249787\n",
       "15    1671030000000  18055.8  18111.5  18013.6  18054.8  30987.972  0.222866\n",
       "16    1671033600000  18054.8  18149.6  18053.1  18096.9  37273.480  0.171189\n",
       "17    1671037200000  18096.9  18146.6  18069.0  18089.3  16822.793  0.161133\n",
       "...             ...      ...      ...      ...      ...        ...       ...\n",
       "7195  1696878000000  27555.0  27632.4  27526.3  27607.6   8683.886 -0.142385\n",
       "7196  1696881600000  27607.7  27644.0  27542.9  27556.2   4995.344 -0.165247\n",
       "7197  1696885200000  27556.1  27627.2  27542.3  27607.4   3540.588 -0.132061\n",
       "7198  1696888800000  27607.4  27627.0  27562.0  27575.9   3771.446 -0.124621\n",
       "7199  1696892400000  27575.9  27605.0  27558.1  27578.3   2906.802 -0.070815\n",
       "\n",
       "[7187 rows x 7 columns]"
      ],
      "text/html": [
       "<div>\n",
       "<style scoped>\n",
       "    .dataframe tbody tr th:only-of-type {\n",
       "        vertical-align: middle;\n",
       "    }\n",
       "\n",
       "    .dataframe tbody tr th {\n",
       "        vertical-align: top;\n",
       "    }\n",
       "\n",
       "    .dataframe thead th {\n",
       "        text-align: right;\n",
       "    }\n",
       "</style>\n",
       "<table border=\"1\" class=\"dataframe\">\n",
       "  <thead>\n",
       "    <tr style=\"text-align: right;\">\n",
       "      <th></th>\n",
       "      <th>t</th>\n",
       "      <th>o</th>\n",
       "      <th>h</th>\n",
       "      <th>l</th>\n",
       "      <th>c</th>\n",
       "      <th>v</th>\n",
       "      <th>g1.CMF</th>\n",
       "    </tr>\n",
       "  </thead>\n",
       "  <tbody>\n",
       "    <tr>\n",
       "      <th>13</th>\n",
       "      <td>1671022800000</td>\n",
       "      <td>17910.1</td>\n",
       "      <td>17964.3</td>\n",
       "      <td>17853.8</td>\n",
       "      <td>17889.9</td>\n",
       "      <td>23363.987</td>\n",
       "      <td>0.107318</td>\n",
       "    </tr>\n",
       "    <tr>\n",
       "      <th>14</th>\n",
       "      <td>1671026400000</td>\n",
       "      <td>17889.9</td>\n",
       "      <td>18086.8</td>\n",
       "      <td>17889.0</td>\n",
       "      <td>18055.8</td>\n",
       "      <td>55287.673</td>\n",
       "      <td>0.249787</td>\n",
       "    </tr>\n",
       "    <tr>\n",
       "      <th>15</th>\n",
       "      <td>1671030000000</td>\n",
       "      <td>18055.8</td>\n",
       "      <td>18111.5</td>\n",
       "      <td>18013.6</td>\n",
       "      <td>18054.8</td>\n",
       "      <td>30987.972</td>\n",
       "      <td>0.222866</td>\n",
       "    </tr>\n",
       "    <tr>\n",
       "      <th>16</th>\n",
       "      <td>1671033600000</td>\n",
       "      <td>18054.8</td>\n",
       "      <td>18149.6</td>\n",
       "      <td>18053.1</td>\n",
       "      <td>18096.9</td>\n",
       "      <td>37273.480</td>\n",
       "      <td>0.171189</td>\n",
       "    </tr>\n",
       "    <tr>\n",
       "      <th>17</th>\n",
       "      <td>1671037200000</td>\n",
       "      <td>18096.9</td>\n",
       "      <td>18146.6</td>\n",
       "      <td>18069.0</td>\n",
       "      <td>18089.3</td>\n",
       "      <td>16822.793</td>\n",
       "      <td>0.161133</td>\n",
       "    </tr>\n",
       "    <tr>\n",
       "      <th>...</th>\n",
       "      <td>...</td>\n",
       "      <td>...</td>\n",
       "      <td>...</td>\n",
       "      <td>...</td>\n",
       "      <td>...</td>\n",
       "      <td>...</td>\n",
       "      <td>...</td>\n",
       "    </tr>\n",
       "    <tr>\n",
       "      <th>7195</th>\n",
       "      <td>1696878000000</td>\n",
       "      <td>27555.0</td>\n",
       "      <td>27632.4</td>\n",
       "      <td>27526.3</td>\n",
       "      <td>27607.6</td>\n",
       "      <td>8683.886</td>\n",
       "      <td>-0.142385</td>\n",
       "    </tr>\n",
       "    <tr>\n",
       "      <th>7196</th>\n",
       "      <td>1696881600000</td>\n",
       "      <td>27607.7</td>\n",
       "      <td>27644.0</td>\n",
       "      <td>27542.9</td>\n",
       "      <td>27556.2</td>\n",
       "      <td>4995.344</td>\n",
       "      <td>-0.165247</td>\n",
       "    </tr>\n",
       "    <tr>\n",
       "      <th>7197</th>\n",
       "      <td>1696885200000</td>\n",
       "      <td>27556.1</td>\n",
       "      <td>27627.2</td>\n",
       "      <td>27542.3</td>\n",
       "      <td>27607.4</td>\n",
       "      <td>3540.588</td>\n",
       "      <td>-0.132061</td>\n",
       "    </tr>\n",
       "    <tr>\n",
       "      <th>7198</th>\n",
       "      <td>1696888800000</td>\n",
       "      <td>27607.4</td>\n",
       "      <td>27627.0</td>\n",
       "      <td>27562.0</td>\n",
       "      <td>27575.9</td>\n",
       "      <td>3771.446</td>\n",
       "      <td>-0.124621</td>\n",
       "    </tr>\n",
       "    <tr>\n",
       "      <th>7199</th>\n",
       "      <td>1696892400000</td>\n",
       "      <td>27575.9</td>\n",
       "      <td>27605.0</td>\n",
       "      <td>27558.1</td>\n",
       "      <td>27578.3</td>\n",
       "      <td>2906.802</td>\n",
       "      <td>-0.070815</td>\n",
       "    </tr>\n",
       "  </tbody>\n",
       "</table>\n",
       "<p>7187 rows × 7 columns</p>\n",
       "</div>"
      ]
     },
     "execution_count": 13,
     "metadata": {},
     "output_type": "execute_result"
    }
   ],
   "execution_count": 13
  },
  {
   "metadata": {
    "ExecuteTime": {
     "end_time": "2025-06-05T03:05:57.680300Z",
     "start_time": "2025-06-05T03:05:57.634819Z"
    }
   },
   "cell_type": "code",
   "source": "df1.to_csv('CMFH.csv', index=False)",
   "id": "e325fe4b18c096e2",
   "outputs": [],
   "execution_count": 14
  },
  {
   "metadata": {},
   "cell_type": "code",
   "outputs": [],
   "execution_count": null,
   "source": "",
   "id": "4b62683c7b2e9849"
  }
 ],
 "metadata": {
  "kernelspec": {
   "display_name": "Python 3",
   "language": "python",
   "name": "python3"
  },
  "language_info": {
   "codemirror_mode": {
    "name": "ipython",
    "version": 2
   },
   "file_extension": ".py",
   "mimetype": "text/x-python",
   "name": "python",
   "nbconvert_exporter": "python",
   "pygments_lexer": "ipython2",
   "version": "2.7.6"
  }
 },
 "nbformat": 4,
 "nbformat_minor": 5
}
